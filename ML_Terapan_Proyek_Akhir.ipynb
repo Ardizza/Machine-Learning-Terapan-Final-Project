{
  "nbformat": 4,
  "nbformat_minor": 0,
  "metadata": {
    "colab": {
      "provenance": [],
      "collapsed_sections": [
        "ts-X25iUq-A4",
        "Ldn_KLwXqqcB"
      ],
      "toc_visible": true
    },
    "kernelspec": {
      "name": "python3",
      "display_name": "Python 3"
    },
    "language_info": {
      "name": "python"
    }
  },
  "cells": [
    {
      "cell_type": "markdown",
      "source": [
        "# Proyek Akhir : Membuat Model Sistem Rekomendasi\n"
      ],
      "metadata": {
        "id": "jX3bM79Rops_"
      }
    },
    {
      "cell_type": "markdown",
      "source": [
        "## Import Libraries"
      ],
      "metadata": {
        "id": "t9XwLdx8IV6z"
      }
    },
    {
      "cell_type": "code",
      "source": [
        "# Libraries for data manipulation and analysis\n",
        "import pandas as pd\n",
        "import seaborn as sns\n",
        "import matplotlib.pyplot as plt\n",
        "\n",
        "# Libraries for preprocessing\n",
        "from sklearn.feature_extraction.text import TfidfVectorizer\n",
        "from sklearn.preprocessing import StandardScaler, LabelEncoder\n",
        "\n",
        "# Libraries for splitting the data\n",
        "from sklearn.model_selection import train_test_split\n",
        "\n",
        "# Libraries for modeling\n",
        "from sklearn.metrics.pairwise import linear_kernel\n",
        "\n",
        "# Libraries for evaluation\n",
        "from sklearn.metrics import mean_absolute_error, mean_squared_error\n",
        "import numpy as np\n"
      ],
      "metadata": {
        "id": "ErgA1pIuIVqL"
      },
      "execution_count": 1,
      "outputs": []
    },
    {
      "cell_type": "markdown",
      "source": [
        "## Load Dataset"
      ],
      "metadata": {
        "id": "SlGJvOxaM47C"
      }
    },
    {
      "cell_type": "markdown",
      "source": [
        "#### Read dataset"
      ],
      "metadata": {
        "id": "mRwuUdJ6repB"
      }
    },
    {
      "cell_type": "code",
      "execution_count": 2,
      "metadata": {
        "id": "aoYSuOerqqpz"
      },
      "outputs": [],
      "source": [
        "url = 'https://raw.githubusercontent.com/Ardizza/Machine-Learning-Terapan-Final-Project/main/NetflixOriginals.csv'\n",
        "df = pd.read_csv(url)"
      ]
    },
    {
      "cell_type": "markdown",
      "source": [
        "## Exploratory Data Analysis (EDA)"
      ],
      "metadata": {
        "id": "5ofMt_BPn2qQ"
      }
    },
    {
      "cell_type": "markdown",
      "source": [
        "#### 5 baris pertama dari dataset"
      ],
      "metadata": {
        "id": "zBffz4dGrkUJ"
      }
    },
    {
      "cell_type": "code",
      "source": [
        "print(df.head())"
      ],
      "metadata": {
        "id": "JEf_3ODfNDf8",
        "colab": {
          "base_uri": "https://localhost:8080/"
        },
        "outputId": "772e85c3-6846-4404-af5a-f11884d7e226"
      },
      "execution_count": 3,
      "outputs": [
        {
          "output_type": "stream",
          "name": "stdout",
          "text": [
            "             Title                  Genre   Premiere  Runtime  IMDB Score  \\\n",
            "0  Enter the Anime            Documentary   5-Aug-19       58         2.5   \n",
            "1      Dark Forces               Thriller  21-Aug-20       81         2.6   \n",
            "2          The App  Science fiction/Drama  26-Dec-19       79         2.6   \n",
            "3   The Open House        Horror thriller  19-Jan-18       94         3.2   \n",
            "4      Kaali Khuhi                Mystery  30-Oct-20       90         3.4   \n",
            "\n",
            "           Language  \n",
            "0  English/Japanese  \n",
            "1           Spanish  \n",
            "2           Italian  \n",
            "3           English  \n",
            "4             Hindi  \n"
          ]
        }
      ]
    },
    {
      "cell_type": "markdown",
      "source": [
        "#### Informasi dataset"
      ],
      "metadata": {
        "id": "pRAypvaSrKiA"
      }
    },
    {
      "cell_type": "code",
      "source": [
        "print(df.info())"
      ],
      "metadata": {
        "id": "N_VGJ2y3NFzk",
        "colab": {
          "base_uri": "https://localhost:8080/"
        },
        "outputId": "1c487521-8d03-4cd9-9400-9b4c34ff932c"
      },
      "execution_count": 4,
      "outputs": [
        {
          "output_type": "stream",
          "name": "stdout",
          "text": [
            "<class 'pandas.core.frame.DataFrame'>\n",
            "RangeIndex: 584 entries, 0 to 583\n",
            "Data columns (total 6 columns):\n",
            " #   Column      Non-Null Count  Dtype  \n",
            "---  ------      --------------  -----  \n",
            " 0   Title       584 non-null    object \n",
            " 1   Genre       584 non-null    object \n",
            " 2   Premiere    584 non-null    object \n",
            " 3   Runtime     584 non-null    int64  \n",
            " 4   IMDB Score  584 non-null    float64\n",
            " 5   Language    584 non-null    object \n",
            "dtypes: float64(1), int64(1), object(4)\n",
            "memory usage: 27.5+ KB\n",
            "None\n"
          ]
        }
      ]
    },
    {
      "cell_type": "markdown",
      "source": [
        "#### Statistik Deskriptif"
      ],
      "metadata": {
        "id": "ncC3rLlyrL7w"
      }
    },
    {
      "cell_type": "markdown",
      "source": [
        "#### Mengecek Jumlah Null"
      ],
      "metadata": {
        "id": "ts-X25iUq-A4"
      }
    },
    {
      "cell_type": "code",
      "source": [
        "# tidak ada missing values\n",
        "print(df.isnull().sum())"
      ],
      "metadata": {
        "id": "lITiheBV7VLw",
        "colab": {
          "base_uri": "https://localhost:8080/"
        },
        "outputId": "7ad5bd82-cb67-45d8-9d0c-b8835d74b712"
      },
      "execution_count": 5,
      "outputs": [
        {
          "output_type": "stream",
          "name": "stdout",
          "text": [
            "Title         0\n",
            "Genre         0\n",
            "Premiere      0\n",
            "Runtime       0\n",
            "IMDB Score    0\n",
            "Language      0\n",
            "dtype: int64\n"
          ]
        }
      ]
    },
    {
      "cell_type": "code",
      "source": [
        "print(df.describe())"
      ],
      "metadata": {
        "id": "K9x6M0vPSAla",
        "colab": {
          "base_uri": "https://localhost:8080/"
        },
        "outputId": "68c9e48d-5c94-4738-edc1-cc04932f7cf1"
      },
      "execution_count": 6,
      "outputs": [
        {
          "output_type": "stream",
          "name": "stdout",
          "text": [
            "          Runtime  IMDB Score\n",
            "count  584.000000  584.000000\n",
            "mean    93.577055    6.271747\n",
            "std     27.761683    0.979256\n",
            "min      4.000000    2.500000\n",
            "25%     86.000000    5.700000\n",
            "50%     97.000000    6.350000\n",
            "75%    108.000000    7.000000\n",
            "max    209.000000    9.000000\n"
          ]
        }
      ]
    },
    {
      "cell_type": "markdown",
      "source": [
        "### Visualisasi Data"
      ],
      "metadata": {
        "id": "zugjVB6XaujP"
      }
    },
    {
      "cell_type": "code",
      "source": [
        "sns.histplot(df['IMDB Score'])\n",
        "plt.title('Distribution of IMDB Scores')\n",
        "plt.show()"
      ],
      "metadata": {
        "colab": {
          "base_uri": "https://localhost:8080/",
          "height": 472
        },
        "id": "PolP8SvEaqR4",
        "outputId": "761e4141-69d8-4067-fcc6-6ee40d1b9695"
      },
      "execution_count": 7,
      "outputs": [
        {
          "output_type": "display_data",
          "data": {
            "text/plain": [
              "<Figure size 640x480 with 1 Axes>"
            ],
            "image/png": "[encoded data removed]"
          },
          "metadata": {}
        }
      ]
    },
    {
      "cell_type": "markdown",
      "source": [
        "## Data Preparation"
      ],
      "metadata": {
        "id": "ne7p1HMR_3Az"
      }
    },
    {
      "cell_type": "markdown",
      "source": [
        "#### Data Transformation"
      ],
      "metadata": {
        "id": "oAp7im2XCbUN"
      }
    },
    {
      "cell_type": "code",
      "source": [
        "# Mengubah kolom 'Premiere' menjadi format datetime\n",
        "df['Premiere'] = pd.to_datetime(df['Premiere'])"
      ],
      "metadata": {
        "colab": {
          "base_uri": "https://localhost:8080/"
        },
        "id": "nq7RG7wRDFG-",
        "outputId": "63921dc1-010a-4386-836b-9082b5d30681"
      },
      "execution_count": 8,
      "outputs": [
        {
          "output_type": "stream",
          "name": "stderr",
          "text": [
            "<ipython-input-8-f8f2a17b61d2>:2: UserWarning: Could not infer format, so each element will be parsed individually, falling back to `dateutil`. To ensure parsing is consistent and as-expected, please specify a format.\n",
            "  df['Premiere'] = pd.to_datetime(df['Premiere'])\n"
          ]
        }
      ]
    },
    {
      "cell_type": "code",
      "source": [
        "# Mengubah kolom 'Premiere' menjadi numerik (ordinal encoding)\n",
        "df['Premiere'] = df['Premiere'].map(pd.Timestamp.toordinal)"
      ],
      "metadata": {
        "id": "jDGjxapkDJq-"
      },
      "execution_count": 9,
      "outputs": []
    },
    {
      "cell_type": "code",
      "source": [
        "# Encoding kolom 'Language'\n",
        "le = LabelEncoder()\n",
        "df['Language'] = le.fit_transform(df['Language'])"
      ],
      "metadata": {
        "id": "0xjHgaBGDfid"
      },
      "execution_count": 10,
      "outputs": []
    },
    {
      "cell_type": "markdown",
      "source": [
        "#### Normalisasi data"
      ],
      "metadata": {
        "id": "GdMMSPrWrAsI"
      }
    },
    {
      "cell_type": "code",
      "source": [
        "scaler = StandardScaler()\n",
        "df_scaled = scaler.fit_transform(df.drop(['Title', 'Genre', 'IMDB Score'], axis=1))"
      ],
      "metadata": {
        "id": "lZ-5PE_M_2IM"
      },
      "execution_count": 11,
      "outputs": []
    },
    {
      "cell_type": "markdown",
      "source": [
        "#### TF-IDF Vectorizer"
      ],
      "metadata": {
        "id": "JKVMA_Okq1H4"
      }
    },
    {
      "cell_type": "code",
      "source": [
        "# Create TF-IDF matrix\n",
        "tfidf = TfidfVectorizer(stop_words='english')\n",
        "df['Genre'] = df['Genre'].fillna('')\n",
        "tfidf_matrix = tfidf.fit_transform(df['Genre'])"
      ],
      "metadata": {
        "id": "K75dccGE4WQe"
      },
      "execution_count": 13,
      "outputs": []
    },
    {
      "cell_type": "markdown",
      "source": [
        "#### Memisahkan fitur dan label"
      ],
      "metadata": {
        "id": "YAjHDIPDrCyY"
      }
    },
    {
      "cell_type": "code",
      "source": [
        "X = df_scaled\n",
        "y = df['IMDB Score']"
      ],
      "metadata": {
        "id": "krkm0gG84MMP"
      },
      "execution_count": 15,
      "outputs": []
    },
    {
      "cell_type": "markdown",
      "source": [
        "#### Split data"
      ],
      "metadata": {
        "id": "R482UJ_frEu6"
      }
    },
    {
      "cell_type": "code",
      "source": [
        "X_train, X_test, y_train, y_test = train_test_split(X, y, test_size=0.2, random_state=42)"
      ],
      "metadata": {
        "id": "1ws86Iav4Ob_"
      },
      "execution_count": 13,
      "outputs": []
    },
    {
      "cell_type": "markdown",
      "source": [
        "## Modeling"
      ],
      "metadata": {
        "id": "Kzrqj-X14Qim"
      }
    },
    {
      "cell_type": "markdown",
      "source": [
        "### Content-Based Filtering"
      ],
      "metadata": {
        "id": "_bFdOQYno9Sf"
      }
    },
    {
      "cell_type": "markdown",
      "source": [
        "#### Cosine similarity matrix"
      ],
      "metadata": {
        "id": "GScEHdFaq2SB"
      }
    },
    {
      "cell_type": "code",
      "source": [
        "cosine_sim = linear_kernel(tfidf_matrix, tfidf_matrix)"
      ],
      "metadata": {
        "id": "fZXCmCBQpDLg"
      },
      "execution_count": 14,
      "outputs": []
    },
    {
      "cell_type": "markdown",
      "source": [
        "#### Get recommendations"
      ],
      "metadata": {
        "id": "qqumX3SHEHzN"
      }
    },
    {
      "cell_type": "code",
      "source": [
        "def get_recommendations(title, cosine_sim=cosine_sim):\n",
        "    idx = df[df['Title'] == title].index[0]\n",
        "    sim_scores = list(enumerate(cosine_sim[idx]))\n",
        "    sim_scores = sorted(sim_scores, key=lambda x: x[1], reverse=True)\n",
        "    sim_scores = sim_scores[1:11]\n",
        "    movie_indices = [i[0] for i in sim_scores]\n",
        "    return df['Title'].iloc[movie_indices]"
      ],
      "metadata": {
        "id": "XpoM4vXuEJp2"
      },
      "execution_count": 15,
      "outputs": []
    },
    {
      "cell_type": "markdown",
      "source": [
        "#### Example Recommendations"
      ],
      "metadata": {
        "id": "DLaw-f1WEPWW"
      }
    },
    {
      "cell_type": "code",
      "source": [
        "print(\"Recommendations for 'The Irishman':\")\n",
        "print(get_recommendations('The Irishman'))"
      ],
      "metadata": {
        "colab": {
          "base_uri": "https://localhost:8080/"
        },
        "id": "jWMWBxfDEOX9",
        "outputId": "24778eb0-c94a-4592-9fd1-0d8480d7f40b"
      },
      "execution_count": 16,
      "outputs": [
        {
          "output_type": "stream",
          "name": "stdout",
          "text": [
            "Recommendations for 'The Irishman':\n",
            "230                         Lost Girls\n",
            "233                         Rogue City\n",
            "287                       The Outsider\n",
            "361               The Crimes That Bind\n",
            "429                     The Highwaymen\n",
            "461                              Ferry\n",
            "491                               Soni\n",
            "500    El Camino: A Breaking Bad Movie\n",
            "508                         On My Skin\n",
            "561                       The Irishman\n",
            "Name: Title, dtype: object\n"
          ]
        }
      ]
    },
    {
      "cell_type": "markdown",
      "source": [
        "### Collaborative Filtering"
      ],
      "metadata": {
        "id": "7gxK-KLqpHxB"
      }
    },
    {
      "cell_type": "markdown",
      "source": [
        "#### Create a pivot table"
      ],
      "metadata": {
        "id": "Ldn_KLwXqqcB"
      }
    },
    {
      "cell_type": "code",
      "source": [
        "pivot_table = df.pivot_table(index='Title', columns='Genre', values='IMDB Score', fill_value=0)"
      ],
      "metadata": {
        "id": "Kj5sqOI84aqe"
      },
      "execution_count": 17,
      "outputs": []
    },
    {
      "cell_type": "markdown",
      "source": [
        "#### Normalize ratings"
      ],
      "metadata": {
        "id": "_OfPFXoAqsuQ"
      }
    },
    {
      "cell_type": "code",
      "source": [
        "pivot_table = pivot_table.apply(lambda x: (x - np.mean(x))/(np.max(x)-np.min(x)), axis=1)"
      ],
      "metadata": {
        "id": "C-9zddC7pNFI"
      },
      "execution_count": 18,
      "outputs": []
    },
    {
      "cell_type": "markdown",
      "source": [
        "#### Convert to matrix"
      ],
      "metadata": {
        "id": "cAT91nZ5EtJF"
      }
    },
    {
      "cell_type": "code",
      "source": [
        "pivot_matrix = pivot_table.to_numpy()"
      ],
      "metadata": {
        "id": "nx0uzn3LEtS_"
      },
      "execution_count": 19,
      "outputs": []
    },
    {
      "cell_type": "markdown",
      "source": [
        "#### Cosine similarity"
      ],
      "metadata": {
        "id": "LO7u-458EyR3"
      }
    },
    {
      "cell_type": "code",
      "source": [
        "movie_similarity = linear_kernel(pivot_matrix, pivot_matrix)"
      ],
      "metadata": {
        "id": "MkjL79VNEyxP"
      },
      "execution_count": 20,
      "outputs": []
    },
    {
      "cell_type": "markdown",
      "source": [
        "#### Get user recommendations"
      ],
      "metadata": {
        "id": "Pryqx-ZDE30W"
      }
    },
    {
      "cell_type": "code",
      "source": [
        "def get_user_recommendations(title, movie_similarity=movie_similarity):\n",
        "    idx = df[df['Title'] == title].index[0]\n",
        "    sim_scores = list(enumerate(movie_similarity[idx]))\n",
        "    sim_scores = sorted(sim_scores, key=lambda x: x[1], reverse=True)\n",
        "    sim_scores = sim_scores[1:11]\n",
        "    movie_indices = [i[0] for i in sim_scores]\n",
        "    return df['Title'].iloc[movie_indices]"
      ],
      "metadata": {
        "id": "-UN81Rh7E4BV"
      },
      "execution_count": 21,
      "outputs": []
    },
    {
      "cell_type": "markdown",
      "source": [
        "#### Example Recommendations"
      ],
      "metadata": {
        "id": "JOLmxM4pFALO"
      }
    },
    {
      "cell_type": "code",
      "source": [
        "print(\"Recommendations for '13th':\")\n",
        "print(get_recommendations('13th'))"
      ],
      "metadata": {
        "colab": {
          "base_uri": "https://localhost:8080/"
        },
        "id": "Vg9rW97jFAee",
        "outputId": "c5ed55d8-1e13-48d4-a42b-ffdde9f058c1"
      },
      "execution_count": 22,
      "outputs": [
        {
          "output_type": "stream",
          "name": "stdout",
          "text": [
            "Recommendations for '13th':\n",
            "10                  Searching for Sheela\n",
            "15                        After the Raid\n",
            "20     Hello Privilege. It's Me, Chelsea\n",
            "30                           After Maria\n",
            "36                            We Are One\n",
            "80                   Strip Down, Rise Up\n",
            "111                 Ghosts of Sugar Land\n",
            "140                 Why Did You Kill Me?\n",
            "151                             One Take\n",
            "152                     Out of Many, One\n",
            "Name: Title, dtype: object\n"
          ]
        }
      ]
    },
    {
      "cell_type": "markdown",
      "source": [
        "## Evaluation"
      ],
      "metadata": {
        "id": "WdMEI6z6GAff"
      }
    },
    {
      "cell_type": "markdown",
      "source": [
        "### Split data"
      ],
      "metadata": {
        "id": "QVQqnSLdGbH_"
      }
    },
    {
      "cell_type": "code",
      "source": [
        "train_data, test_data = train_test_split(df, test_size=0.2, random_state=42)"
      ],
      "metadata": {
        "id": "kytWnG8EGbio"
      },
      "execution_count": 23,
      "outputs": []
    },
    {
      "cell_type": "markdown",
      "source": [
        "### Create pivot tables"
      ],
      "metadata": {
        "id": "2VNN13wmGOEl"
      }
    },
    {
      "cell_type": "code",
      "source": [
        "train_pivot = train_data.pivot_table(index='Title', columns='Genre', values='IMDB Score', fill_value=0)\n",
        "test_pivot = test_data.pivot_table(index='Title', columns='Genre', values='IMDB Score', fill_value=0)"
      ],
      "metadata": {
        "id": "ot8BWrffGACV"
      },
      "execution_count": 24,
      "outputs": []
    },
    {
      "cell_type": "markdown",
      "source": [
        "### Normalize ratings"
      ],
      "metadata": {
        "id": "24hT4DrYGo9l"
      }
    },
    {
      "cell_type": "code",
      "source": [
        "train_pivot = train_pivot.apply(lambda x: (x - np.mean(x))/(np.max(x)-np.min(x)), axis=1)\n",
        "test_pivot = test_pivot.apply(lambda x: (x - np.mean(x))/(np.max(x)-np.min(x)), axis=1)"
      ],
      "metadata": {
        "id": "24Gr0tkBGVSK"
      },
      "execution_count": 25,
      "outputs": []
    },
    {
      "cell_type": "markdown",
      "source": [
        "### Convert to matrix"
      ],
      "metadata": {
        "id": "ar3I_e7rGtGW"
      }
    },
    {
      "cell_type": "code",
      "source": [
        "train_matrix = train_pivot.to_numpy()\n",
        "test_matrix = test_pivot.to_numpy()"
      ],
      "metadata": {
        "id": "oQZOYghuGsJP"
      },
      "execution_count": 26,
      "outputs": []
    },
    {
      "cell_type": "markdown",
      "source": [
        "### Calculate similarity"
      ],
      "metadata": {
        "id": "8M73tmkxG0Ww"
      }
    },
    {
      "cell_type": "code",
      "source": [
        "train_similarity = linear_kernel(train_matrix, train_matrix)\n",
        "test_similarity = linear_kernel(test_matrix, test_matrix)"
      ],
      "metadata": {
        "id": "Wa3h5KhaG1CG"
      },
      "execution_count": 27,
      "outputs": []
    },
    {
      "cell_type": "markdown",
      "source": [
        "### Mean Absolute Error (MAE)"
      ],
      "metadata": {
        "id": "RuJsybhTG0Ud"
      }
    },
    {
      "cell_type": "code",
      "source": [
        "def mae(pred, actual):\n",
        "    pred = pred[actual.nonzero()].flatten()\n",
        "    actual = actual[actual.nonzero()].flatten()\n",
        "    return mean_absolute_error(pred, actual)"
      ],
      "metadata": {
        "id": "t_1J5q1MG4Ov"
      },
      "execution_count": 28,
      "outputs": []
    },
    {
      "cell_type": "markdown",
      "source": [
        "### Root Mean Squared Error (RMSE)"
      ],
      "metadata": {
        "id": "-WTAKiuIG0SF"
      }
    },
    {
      "cell_type": "code",
      "source": [
        "def rmse(pred, actual):\n",
        "    pred = pred[actual.nonzero()].flatten()\n",
        "    actual = actual[actual.nonzero()].flatten()\n",
        "    return np.sqrt(mean_squared_error(pred, actual))"
      ],
      "metadata": {
        "id": "ntUvQnyhG8X3"
      },
      "execution_count": 29,
      "outputs": []
    },
    {
      "cell_type": "markdown",
      "source": [
        "### Calculate MAE and RMSE"
      ],
      "metadata": {
        "id": "iO9j8PL3HAYl"
      }
    },
    {
      "cell_type": "code",
      "source": [
        "train_subset = train_matrix[:test_similarity.shape[0], :]"
      ],
      "metadata": {
        "id": "3HbFOvNkHTrX"
      },
      "execution_count": 30,
      "outputs": []
    },
    {
      "cell_type": "code",
      "source": [
        "test_pred = test_similarity.dot(train_subset) / np.array([np.abs(test_similarity).sum(axis=1)]).T\n",
        "\n",
        "print('MAE:', mae(test_pred, test_matrix[:test_similarity.shape[0], :]))\n",
        "print('RMSE:', rmse(test_pred, test_matrix[:test_similarity.shape[0], :]))"
      ],
      "metadata": {
        "colab": {
          "base_uri": "https://localhost:8080/"
        },
        "id": "JoTF3zeeG-Ak",
        "outputId": "6ba7a4ba-34a4-44b8-9466-2e5636f15758"
      },
      "execution_count": 31,
      "outputs": [
        {
          "output_type": "stream",
          "name": "stdout",
          "text": [
            "MAE: 0.050730907304834115\n",
            "RMSE: 0.16200401844928827\n"
          ]
        }
      ]
    }
  ]
}